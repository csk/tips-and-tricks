{
 "cells": [
  {
   "cell_type": "markdown",
   "metadata": {},
   "source": [
    "# My Shell Tips and Tricks\n",
    "\n",
    "I am constantly learning new stuff and was looking for a place where to put them all. Today I found out that Github supports Jupyter and I think it is perfect for saving useful tips and tricks. \n",
    "\n",
    "## ascii-art directory/file structure\n",
    "\n",
    "In the following example it's limited with `head -n 10` to 10 lines\n",
    "\n",
    "[source](https://stackoverflow.com/a/1581619)"
   ]
  },
  {
   "cell_type": "code",
   "execution_count": 2,
   "metadata": {
    "collapsed": false
   },
   "outputs": [
    {
     "name": "stdout",
     "output_type": "stream",
     "text": [
      "ls: certs: Permission denied\n",
      "   |-apache2\n",
      "   |---extra\n",
      "   |---original\n",
      "   |-----extra\n",
      "   |---other\n",
      "   |---users\n",
      "   |-asl\n",
      "   |-cups\n",
      "   |---certs\n",
      "   |---interfaces\n"
     ]
    }
   ],
   "source": [
    "ls -R /etc | grep \":$\" | sed -e 's/:$//' -e 's/[^-][^\\/]*\\//--/g' -e 's/^/   /' -e 's/-/|/' |head -n 10"
   ]
  },
  {
   "cell_type": "markdown",
   "metadata": {},
   "source": [
    "## Extract wrapped by two keywords text\n",
    "\n",
    "The first `grep` searches for first keyword and prints 9999 lines after match. The `sed` part, prints all lines until pattern and then quits. The `tail -n +2` part removes the first line. All the resting `tail` commands are for removing the last line. `head -n -1` fails on OSX."
   ]
  },
  {
   "cell_type": "code",
   "execution_count": 43,
   "metadata": {
    "collapsed": false
   },
   "outputs": [
    {
     "name": "stdout",
     "output_type": "stream",
     "text": [
      " foo\n",
      " bar\n",
      " lorem\n"
     ]
    }
   ],
   "source": [
    "echo -ne $(cat <<LOREM\n",
    "[...]\\n\n",
    "KEY_ONE\\n\n",
    "foo\\n\n",
    "bar\\n\n",
    "lorem\\n\n",
    "KEY_TWO\\n\n",
    "[...]\\n\n",
    "LOREM) | grep -A9999 'KEY_ONE' | sed '/KEY_TWO/q' |tail -n +2 |tail -r| tail -n +2 |tail -r"
   ]
  }
 ],
 "metadata": {
  "kernelspec": {
   "display_name": "Bash",
   "language": "bash",
   "name": "bash"
  },
  "language_info": {
   "codemirror_mode": "shell",
   "file_extension": ".sh",
   "mimetype": "text/x-sh",
   "name": "bash"
  }
 },
 "nbformat": 4,
 "nbformat_minor": 2
}
