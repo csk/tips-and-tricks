{
 "cells": [
  {
   "cell_type": "markdown",
   "metadata": {},
   "source": [
    "# My Shell Tips and Tricks\n",
    "\n",
    "I am constantly learning new stuff and was looking for a place where to put them all. Today I found out that Github supports Jupyter and I think it is perfect for saving useful tips and tricks. \n",
    "\n",
    "## ascii-art directory/file structure\n",
    "\n",
    "In the following example it's limited with `head -n 10` to 10 lines\n",
    "\n",
    "[source](https://stackoverflow.com/a/1581619)"
   ]
  },
  {
   "cell_type": "code",
   "execution_count": 5,
   "metadata": {
    "collapsed": false
   },
   "outputs": [
    {
     "name": "stdout",
     "output_type": "stream",
     "text": [
      "ls: certs: Permission denied\n",
      "   |-apache2\n",
      "   |---extra\n",
      "   |---original\n",
      "   |-----extra\n",
      "   |---other\n",
      "   |---users\n",
      "   |-asl\n",
      "   |-cups\n",
      "   |---certs\n",
      "   |---interfaces\n"
     ]
    }
   ],
   "source": [
    "ls -R /etc | grep \":$\" | sed -e 's/:$//' -e 's/[^-][^\\/]*\\//--/g' -e 's/^/   /' -e 's/-/|/' |head -n 10"
   ]
  }
 ],
 "metadata": {
  "kernelspec": {
   "display_name": "Bash",
   "language": "bash",
   "name": "bash"
  },
  "language_info": {
   "codemirror_mode": "shell",
   "file_extension": ".sh",
   "mimetype": "text/x-sh",
   "name": "bash"
  }
 },
 "nbformat": 4,
 "nbformat_minor": 2
}
